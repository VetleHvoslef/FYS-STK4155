{
 "cells": [
  {
   "cell_type": "code",
   "execution_count": 1,
   "metadata": {},
   "outputs": [],
   "source": [
    "import autograd.numpy as anp\n",
    "from FFNN_test import FFNN\n",
    "from activation_functions import sigmoid\n",
    "from cost_functions import CostCrossEntropy, CostLogReg\n",
    "from Scheduler import Momentum, Constant, Adagrad, Adam\n",
    "from sklearn.neural_network import MLPClassifier"
   ]
  },
  {
   "cell_type": "markdown",
   "metadata": {},
   "source": [
    "# Exercises week 43 and 44"
   ]
  },
  {
   "cell_type": "markdown",
   "metadata": {},
   "source": [
    "### Setup"
   ]
  },
  {
   "cell_type": "code",
   "execution_count": 2,
   "metadata": {},
   "outputs": [
    {
     "name": "stdout",
     "output_type": "stream",
     "text": [
      "[[1]\n",
      " [1]\n",
      " [1]\n",
      " [1]]\n"
     ]
    }
   ],
   "source": [
    "# Design matrix\n",
    "X = anp.asarray([[0,0], [0,1], [1,0], [1,1]])\n",
    "\n",
    "# Targets for different gates\n",
    "y_xor = anp.asarray([0,1,1,0]).reshape(-1,1)\n",
    "y_and = anp.asarray([0,0,0,1]).reshape(-1,1)\n",
    "y_or = anp.asarray([0,1,1,1]).reshape(-1,1)\n",
    "\n",
    "# Create neural network\n",
    "network = FFNN((2,2,1), sigmoid, sigmoid, CostLogReg, 10)\n",
    "\n",
    "# Different values to test\n",
    "eta_vals = anp.logspace(-4,-1,4)\n",
    "lmbda_vals = anp.logspace(-5,-1,5)\n",
    "\n",
    "# One feed forward (predict without training first)\n",
    "first_pred = network.predict(X)\n",
    "print(first_pred)"
   ]
  },
  {
   "cell_type": "markdown",
   "metadata": {},
   "source": [
    "### XOR gate"
   ]
  },
  {
   "cell_type": "code",
   "execution_count": 4,
   "metadata": {},
   "outputs": [
    {
     "name": "stdout",
     "output_type": "stream",
     "text": [
      "Adam: Eta=0.0001, Lambda=1e-05\n",
      "  [=======================================>] 100.0% | train_error: 10.4 | train_acc: 0.500  \n",
      "Sklearn: 0.5\n",
      "Adam: Eta=0.0001, Lambda=0.0001\n",
      "  [=======================================>] 100.0% | train_error: 10.4 | train_acc: 0.500  \n",
      "Sklearn: 0.5\n",
      "Adam: Eta=0.0001, Lambda=0.001\n",
      "  [=======================================>] 100.0% | train_error: 10.4 | train_acc: 0.500  \n",
      "Sklearn: 0.5\n",
      "Adam: Eta=0.0001, Lambda=0.01\n",
      "  [=======================================>] 100.0% | train_error: 10.4 | train_acc: 0.500  \n",
      "Sklearn: 0.5\n",
      "Adam: Eta=0.0001, Lambda=0.1\n",
      "  [=======================================>] 100.0% | train_error: 15.5 | train_acc: 0.250  \n",
      "Sklearn: 0.5\n",
      "Adam: Eta=0.001, Lambda=1e-05\n",
      "  [=======================================>] 100.0% | train_error: 10.4 | train_acc: 0.500  \n",
      "Sklearn: 0.5\n",
      "Adam: Eta=0.001, Lambda=0.0001\n",
      "  [=======================================>] 100.0% | train_error: 10.4 | train_acc: 0.500  \n",
      "Sklearn: 0.5\n",
      "Adam: Eta=0.001, Lambda=0.001\n",
      "  [=======================================>] 100.0% | train_error: 10.4 | train_acc: 0.500  \n",
      "Sklearn: 0.5\n",
      "Adam: Eta=0.001, Lambda=0.01\n",
      "  [=======================================>] 100.0% | train_error: 10.4 | train_acc: 0.500  \n",
      "Sklearn: 0.5\n",
      "Adam: Eta=0.001, Lambda=0.1\n",
      "  [=======================================>] 100.0% | train_error: 10.4 | train_acc: 0.500  \n",
      "Sklearn: 0.5\n",
      "Adam: Eta=0.01, Lambda=1e-05\n",
      "  [=======================================>] 100.0% | train_error: -0.0000000010 | train_acc: 1.00 \n",
      "Sklearn: 0.25\n",
      "Adam: Eta=0.01, Lambda=0.0001\n",
      "  [=======================================>] 100.0% | train_error: -0.0000000010 | train_acc: 1.00 \n",
      "Sklearn: 0.25\n",
      "Adam: Eta=0.01, Lambda=0.001\n",
      "  [=======================================>] 100.0% | train_error: 10.4 | train_acc: 0.500  \n",
      "Sklearn: 0.25\n",
      "Adam: Eta=0.01, Lambda=0.01\n",
      "  [=======================================>] 100.0% | train_error: 10.4 | train_acc: 0.500  \n",
      "Sklearn: 0.25\n",
      "Adam: Eta=0.01, Lambda=0.1\n",
      "  [=======================================>] 100.0% | train_error: 10.4 | train_acc: 0.500  \n",
      "Sklearn: 0.5\n",
      "Adam: Eta=0.1, Lambda=1e-05\n",
      "  [=======================================>] 100.0% | train_error: 10.4 | train_acc: 0.500  \n",
      "Sklearn: 0.5\n",
      "Adam: Eta=0.1, Lambda=0.0001\n",
      "  [=======================================>] 100.0% | train_error: 10.4 | train_acc: 0.500  \n",
      "Sklearn: 0.5\n",
      "Adam: Eta=0.1, Lambda=0.001\n",
      "  [=======================================>] 100.0% | train_error: 10.4 | train_acc: 0.500  \n",
      "Sklearn: 0.5\n",
      "Adam: Eta=0.1, Lambda=0.01\n",
      "  [=======================================>] 100.0% | train_error: 10.4 | train_acc: 0.500  \n",
      "Sklearn: 0.25\n",
      "Adam: Eta=0.1, Lambda=0.1\n",
      "  [=======================================>] 100.0% | train_error: 10.4 | train_acc: 0.500  \n",
      "Sklearn: 0.5\n"
     ]
    }
   ],
   "source": [
    "for eta in eta_vals:\n",
    "    for lmbda in lmbda_vals:\n",
    "        network.reset_weights_and_bias()\n",
    "        sched_xor = Adam(eta, 0.9, 0.999)\n",
    "        network.fit(X, y_xor, sched_xor, 1, 1000, lmbda)\n",
    "        pred_xor = network.predict(X)\n",
    "        # print(f\"\\n{pred_xor}\")\n",
    "\n",
    "        skl_network = MLPClassifier(hidden_layer_sizes = (2), activation = 'logistic', solver = 'adam', alpha = lmbda, learning_rate_init = eta, max_iter = 1000, random_state = 10)\n",
    "        skl_network.fit(X, y_xor.ravel())\n",
    "        print(f\"Sklearn: {skl_network.score(X, y_xor)}\")"
   ]
  },
  {
   "cell_type": "markdown",
   "metadata": {},
   "source": [
    "### OR gate"
   ]
  },
  {
   "cell_type": "code",
   "execution_count": 5,
   "metadata": {},
   "outputs": [
    {
     "name": "stdout",
     "output_type": "stream",
     "text": [
      "Adam: Eta=0.0001, Lambda=1e-05\n",
      "  [=======================================>] 100.0% | train_error: 5.18 | train_acc: 0.750  \n",
      "Sklearn: 0.25\n",
      "Adam: Eta=0.0001, Lambda=0.0001\n",
      "  [=======================================>] 100.0% | train_error: 5.18 | train_acc: 0.750  \n",
      "Sklearn: 0.25\n",
      "Adam: Eta=0.0001, Lambda=0.001\n",
      "  [=======================================>] 100.0% | train_error: 5.18 | train_acc: 0.750  \n",
      "Sklearn: 0.25\n",
      "Adam: Eta=0.0001, Lambda=0.01\n",
      "  [=======================================>] 100.0% | train_error: 5.18 | train_acc: 0.750  \n",
      "Sklearn: 0.25\n",
      "Adam: Eta=0.0001, Lambda=0.1\n",
      "  [=======================================>] 100.0% | train_error: 5.18 | train_acc: 0.750  \n",
      "Sklearn: 0.25\n",
      "Adam: Eta=0.001, Lambda=1e-05\n",
      "  [=======================================>] 100.0% | train_error: -0.0000000010 | train_acc: 1.00 \n",
      "Sklearn: 0.75\n",
      "Adam: Eta=0.001, Lambda=0.0001\n",
      "  [=======================================>] 100.0% | train_error: -0.0000000010 | train_acc: 1.00 \n",
      "Sklearn: 0.75\n",
      "Adam: Eta=0.001, Lambda=0.001\n",
      "  [=======================================>] 100.0% | train_error: -0.0000000010 | train_acc: 1.00 \n",
      "Sklearn: 0.75\n",
      "Adam: Eta=0.001, Lambda=0.01\n",
      "  [=======================================>] 100.0% | train_error: 5.18 | train_acc: 0.750  \n",
      "Sklearn: 0.75\n",
      "Adam: Eta=0.001, Lambda=0.1\n",
      "  [=======================================>] 100.0% | train_error: 5.18 | train_acc: 0.750  \n",
      "Sklearn: 0.75\n",
      "Adam: Eta=0.01, Lambda=1e-05\n",
      "  [=======================================>] 100.0% | train_error: -0.0000000010 | train_acc: 1.00 \n",
      "Sklearn: 1.0\n",
      "Adam: Eta=0.01, Lambda=0.0001\n",
      "  [=======================================>] 100.0% | train_error: -0.0000000010 | train_acc: 1.00 \n",
      "Sklearn: 1.0\n",
      "Adam: Eta=0.01, Lambda=0.001\n",
      "  [=======================================>] 100.0% | train_error: -0.0000000010 | train_acc: 1.00 \n",
      "Sklearn: 1.0\n",
      "Adam: Eta=0.01, Lambda=0.01\n",
      "  [=======================================>] 100.0% | train_error: -0.0000000010 | train_acc: 1.00 \n",
      "Sklearn: 1.0\n",
      "Adam: Eta=0.01, Lambda=0.1\n",
      "  [=======================================>] 100.0% | train_error: 5.18 | train_acc: 0.750  \n",
      "Sklearn: 0.75\n",
      "Adam: Eta=0.1, Lambda=1e-05\n",
      "  [=======================================>] 100.0% | train_error: -0.0000000010 | train_acc: 1.00 \n",
      "Sklearn: 1.0\n",
      "Adam: Eta=0.1, Lambda=0.0001\n",
      "  [=======================================>] 100.0% | train_error: -0.0000000010 | train_acc: 1.00 \n",
      "Sklearn: 1.0\n",
      "Adam: Eta=0.1, Lambda=0.001\n",
      "  [=======================================>] 100.0% | train_error: -0.0000000010 | train_acc: 1.00 \n",
      "Sklearn: 1.0\n",
      "Adam: Eta=0.1, Lambda=0.01\n",
      "  [=======================================>] 100.0% | train_error: -0.0000000010 | train_acc: 1.00 \n",
      "Sklearn: 1.0\n",
      "Adam: Eta=0.1, Lambda=0.1\n",
      "  [=======================================>] 100.0% | train_error: 5.18 | train_acc: 0.750  \n",
      "Sklearn: 0.75\n"
     ]
    }
   ],
   "source": [
    "for eta in eta_vals:\n",
    "    for lmbda in lmbda_vals:\n",
    "        network.reset_weights_and_bias()\n",
    "        sched_or = Adam(eta, 0.9, 0.999)\n",
    "        network.fit(X, y_or, sched_or, 1, 1000, lmbda)\n",
    "        pred_or = network.predict(X)\n",
    "        # print(f\"\\n{pred_or}\")\n",
    "\n",
    "        skl_network = MLPClassifier(hidden_layer_sizes = (2), activation = 'logistic', solver = 'adam', alpha = lmbda, learning_rate_init = eta, max_iter = 1000, random_state = 10)\n",
    "        skl_network.fit(X, y_or.ravel())\n",
    "        print(f\"Sklearn: {skl_network.score(X, y_or)}\")"
   ]
  },
  {
   "cell_type": "markdown",
   "metadata": {},
   "source": [
    "### AND gate"
   ]
  },
  {
   "cell_type": "code",
   "execution_count": 6,
   "metadata": {},
   "outputs": [
    {
     "name": "stdout",
     "output_type": "stream",
     "text": [
      "Adam: Eta=0.0001, Lambda=1e-05\n",
      "  [=======================================>] 100.0% | train_error: 5.18 | train_acc: 0.750  \n",
      "Sklearn: 0.75\n",
      "Adam: Eta=0.0001, Lambda=0.0001\n",
      "  [=======================================>] 100.0% | train_error: 5.18 | train_acc: 0.750  \n",
      "Sklearn: 0.75\n",
      "Adam: Eta=0.0001, Lambda=0.001\n",
      "  [=======================================>] 100.0% | train_error: 5.18 | train_acc: 0.750  \n",
      "Sklearn: 0.75\n",
      "Adam: Eta=0.0001, Lambda=0.01\n",
      "  [=======================================>] 100.0% | train_error: 5.18 | train_acc: 0.750  \n",
      "Sklearn: 0.75\n",
      "Adam: Eta=0.0001, Lambda=0.1\n",
      "  [=======================================>] 100.0% | train_error: 5.18 | train_acc: 0.750  \n",
      "Sklearn: 0.75\n",
      "Adam: Eta=0.001, Lambda=1e-05\n",
      "  [=======================================>] 100.0% | train_error: 5.18 | train_acc: 0.750  \n",
      "Sklearn: 0.75\n",
      "Adam: Eta=0.001, Lambda=0.0001\n",
      "  [=======================================>] 100.0% | train_error: 5.18 | train_acc: 0.750  \n",
      "Sklearn: 0.75\n",
      "Adam: Eta=0.001, Lambda=0.001\n",
      "  [=======================================>] 100.0% | train_error: 5.18 | train_acc: 0.750  \n",
      "Sklearn: 0.75\n",
      "Adam: Eta=0.001, Lambda=0.01\n",
      "  [=======================================>] 100.0% | train_error: 5.18 | train_acc: 0.750  \n",
      "Sklearn: 0.75\n",
      "Adam: Eta=0.001, Lambda=0.1\n",
      "  [=======================================>] 100.0% | train_error: 5.18 | train_acc: 0.750  \n",
      "Sklearn: 0.75\n",
      "Adam: Eta=0.01, Lambda=1e-05\n",
      "  [=======================================>] 100.0% | train_error: 5.18 | train_acc: 0.750  \n",
      "Sklearn: 1.0\n",
      "Adam: Eta=0.01, Lambda=0.0001\n",
      "  [=======================================>] 100.0% | train_error: 5.18 | train_acc: 0.750  \n",
      "Sklearn: 1.0\n",
      "Adam: Eta=0.01, Lambda=0.001\n",
      "  [=======================================>] 100.0% | train_error: 5.18 | train_acc: 0.750  \n",
      "Sklearn: 1.0\n",
      "Adam: Eta=0.01, Lambda=0.01\n",
      "  [=======================================>] 100.0% | train_error: 5.18 | train_acc: 0.750  \n",
      "Sklearn: 1.0\n",
      "Adam: Eta=0.01, Lambda=0.1\n",
      "  [=======================================>] 100.0% | train_error: 5.18 | train_acc: 0.750  \n",
      "Sklearn: 0.75\n",
      "Adam: Eta=0.1, Lambda=1e-05\n",
      "  [=======================================>] 100.0% | train_error: 5.18 | train_acc: 0.750  \n",
      "Sklearn: 1.0\n",
      "Adam: Eta=0.1, Lambda=0.0001\n",
      "  [=======================================>] 100.0% | train_error: 5.18 | train_acc: 0.750  \n",
      "Sklearn: 1.0\n",
      "Adam: Eta=0.1, Lambda=0.001\n",
      "  [=======================================>] 100.0% | train_error: 5.18 | train_acc: 0.750  \n",
      "Sklearn: 1.0\n",
      "Adam: Eta=0.1, Lambda=0.01\n",
      "  [=======================================>] 100.0% | train_error: 5.18 | train_acc: 0.750  \n",
      "Sklearn: 1.0\n",
      "Adam: Eta=0.1, Lambda=0.1\n",
      "  [=======================================>] 100.0% | train_error: 5.18 | train_acc: 0.750  \n",
      "Sklearn: 0.75\n"
     ]
    }
   ],
   "source": [
    "for eta in eta_vals:  \n",
    "    for lmbda in lmbda_vals:\n",
    "        network.reset_weights_and_bias()\n",
    "        sched_and = Adam(eta, 0.9, 0.999)\n",
    "        network.fit(X, y_and, sched_and, 1, 1000, lmbda)\n",
    "        pred_or = network.predict(X)\n",
    "        # print(f\"\\n{pred_and}\")\n",
    "\n",
    "        skl_network = MLPClassifier(hidden_layer_sizes = (2), activation = 'logistic', solver = 'adam', alpha = lmbda, learning_rate_init = eta, max_iter = 1000, random_state = 10)\n",
    "        skl_network.fit(X, y_and.ravel())\n",
    "        print(f\"Sklearn: {skl_network.score(X, y_and)}\")"
   ]
  },
  {
   "cell_type": "markdown",
   "metadata": {},
   "source": [
    "### Discussion"
   ]
  },
  {
   "cell_type": "markdown",
   "metadata": {},
   "source": [
    "### References\n",
    "The code in the files ''activation_functions.py'', ''cost_functions.py'', ''FFNN.py'' and ''Scheduler.py'' is taken from the \"Applied Data Analysis and Machine Learning\" Jupyter book, with a few adjustments. The original code can be found here: https://compphysics.github.io/MachineLearning/doc/LectureNotes/_build/html/exercisesweek43.html."
   ]
  }
 ],
 "metadata": {
  "kernelspec": {
   "display_name": "Python 3",
   "language": "python",
   "name": "python3"
  },
  "language_info": {
   "codemirror_mode": {
    "name": "ipython",
    "version": 3
   },
   "file_extension": ".py",
   "mimetype": "text/x-python",
   "name": "python",
   "nbconvert_exporter": "python",
   "pygments_lexer": "ipython3",
   "version": "3.10.12"
  }
 },
 "nbformat": 4,
 "nbformat_minor": 2
}
